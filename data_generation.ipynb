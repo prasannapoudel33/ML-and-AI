{
  "nbformat": 4,
  "nbformat_minor": 0,
  "metadata": {
    "colab": {
      "provenance": []
    },
    "kernelspec": {
      "name": "python3",
      "display_name": "Python 3"
    },
    "language_info": {
      "name": "python"
    }
  },
  "cells": [
    {
      "cell_type": "markdown",
      "source": [
        "Task to do :\n",
        "* generate synthetic dataset for the demo  of model building\n",
        "* preprocess and visualize the dataset\n",
        "* perform feature engineering\n",
        "* select machine learning model\n",
        "* train and evaluate the model"
      ],
      "metadata": {
        "id": "NEfj587DqQpP"
      }
    },
    {
      "cell_type": "code",
      "execution_count": 1,
      "metadata": {
        "id": "eKM4NL4bqPzy"
      },
      "outputs": [],
      "source": [
        "# generating synthetic dataset\n",
        "import pandas as pd\n",
        "import numpy as np\n",
        "from datetime import datetime, timedelta"
      ]
    },
    {
      "cell_type": "code",
      "source": [
        "from typing_extensions import Protocol\n",
        "\"\"\" Generate normal traffic data \"\"\"\n",
        "def generate_normal_traffic():\n",
        "  return {\n",
        "      'timestamp': datetime.now() - timedelta(second=np.random.randint(0, 86400)),\n",
        "      'source_ip': f'192.168.{np.random.randint(0, 255)}.{np.random.randint(0, 255)}',\n",
        "      'destination_ip': f'10.0{np.random.randint(0, 255)}.{np.random.randint(0, 255)}',\n",
        "      'protocol' : np.random.choice(['TCP', 'UDP', 'ICMP']),\n",
        "      'port': np.random.randint(1, 65535),\n",
        "      'bytes': np.random.normal(1500, 500),\n",
        "      'packets': np.random.randint(1, 100),\n",
        "      'duration': np.random.exponential(30),\n",
        "      'is_attack':0\n",
        "  }"
      ],
      "metadata": {
        "id": "u5Ab2AxLq5_-"
      },
      "execution_count": 4,
      "outputs": []
    },
    {
      "cell_type": "code",
      "source": [
        "def generate_attack_traffic():\n",
        "  \"\"\" Generate attack traffic data. \"\"\"\n",
        "  attack_types = {\n",
        "      'ddos': {\n",
        "          'bytes': np.random.normal(15000, 1000),\n",
        "          'packets': np.random.randint(50, 1000),\n",
        "          'duration': np.random.exponential(5),\n",
        "      },\n",
        "      'port_scan': {\n",
        "          'bytes': np.random.normal(100, 20),\n",
        "          'packets': np.random.randint(1, 3),\n",
        "          'duration': np.random.exponential(0.1),\n",
        "      },\n",
        "\n",
        "      'brute_force': {\n",
        "          'bytes': np.random.normal(500, 100),\n",
        "          'packets': np.random.randint(10, 50),\n",
        "          'duration': np.random.exponential(1),\n",
        "      },\n",
        "  }\n",
        "  attack_types = np.random.choice(list(attack_types.key()))\n",
        "  attack_params = attack_types[attack_types]\n",
        "\n",
        "  return{\n",
        "      'timestamp': datetime.now()- timedelta(second = np.random.randint(0, 86400)),\n",
        "      'source_ip': f'45.{np.random.randint(0, 255)}.{np.random.randint(0, 255)}.{np.random.randint(0, 255)}',\n",
        "      'destination_ip': f'10.0{np.random.randint(0, 255)}.{np.random.randint(0, 255)}',\n",
        "      'protocol' : np.random.choice(['TCP', 'UDP', 'ICMP'], p = [0.8, 0.1, 0.1]),\n",
        "      'port': np.random.randint(1, 65535),\n",
        "      'bytes': np.random.normal('bytes'),\n",
        "      'packets': np.random.randint('packets'),\n",
        "      'duration': np.random.exponential('duration'),\n",
        "      'is_attack': 1,\n",
        "      'attack_type': attack_types\n",
        "  }"
      ],
      "metadata": {
        "id": "dVPKFH05szF4"
      },
      "execution_count": 6,
      "outputs": []
    },
    {
      "cell_type": "code",
      "source": [],
      "metadata": {
        "id": "CjvmqdRytBXz"
      },
      "execution_count": null,
      "outputs": []
    }
  ]
}